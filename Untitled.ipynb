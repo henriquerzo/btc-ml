{
 "cells": [
  {
   "cell_type": "markdown",
   "metadata": {},
   "source": [
    "##### 2.2. CDD - Coin Days Destroyed (Curtissimo/Curto)\n",
    "\n",
    "$$Average CDD = \\frac{\\sum_{i=1}^{n} (TX BTC Value_{i} * Number of Days Before Last Move_{i})} {n}$$\n",
    "\n",
    "- Momentos Chaves de Pressao Vendedora\n",
    " - Aumento\n",
    " - Ausencia\n",
    " - Diminuicao\n",
    "\n",
    "- Não funciona sem **contexto**\n",
    " - Nao serve para moedas resultantes de forks com mudancas no registro historico\n",
    " - Ressalva para transacoes entre carteiras do mesmo agente (e.g. Coinbase Dezembro/18) - Distorcoes\n",
    "\n",
    "*Data Sources:* \n",
    "- https://www.blockchair.com\n",
    "- https://www.quandl.com/data/BCHAIN/BCDDE-Bitcoin-Days-Destroyed\n"
   ]
  },
  {
   "cell_type": "code",
   "execution_count": null,
   "metadata": {},
   "outputs": [],
   "source": [
    "##### 2.2. BS - Order Book Density: Buy Support\n",
    "\n",
    "$$Average CDD = \\frac{\\sum_{i=1}^{n} (TX BTC Value_{i} * Number of Days Before Last Move_{i})} {n}$$\n",
    "\n",
    "- Quantidade total (em usd) de ordens de compra até 10% do preco atual do ativo\n",
    "- Proxy para liquidez ou saude do preco\n",
    "- Capacidade do preco se manter no curto prazo\n",
    "\n",
    "- Valor absoluto sozinho nao significa muito\n",
    "    - Comparar o BS do ativo com o do BTC\n",
    "    - Comparar o BS com a capitalizacao do mercado: BS/CM\n",
    "        - Maior: mais suporte\n",
    "        - Menor: menos suporte\n",
    "            \n",
    "- Racional de acumulacao estabilizadora de preco\n",
    "- Vunerabilidade a spoofs e manipulacoes\n",
    "\n",
    " - Ausencia\n",
    " - Diminuicao\n",
    "\n",
    "- Não funciona sem **contexto**\n",
    " - Nao serve para moedas resultantes de forks com mudancas no registro historico\n",
    " - Ressalva para transacoes entre carteiras do mesmo agente (e.g. Coinbase Dezembro/18) - Distorcoes\n",
    "\n",
    "*Data Sources:* \n",
    "- https://www.blockchair.com\n",
    "- https://www.quandl.com/data/BCHAIN/BCDDE-Bitcoin-Days-Destroyed\n"
   ]
  },
  {
   "cell_type": "markdown",
   "metadata": {},
   "source": [
    "https://lp.infomoney.com.br/workshop_segredos-investir-certo-criptomoedas_transmissao?submissionGuid=0741cdec-44f0-45ac-89e4-357db50694c1"
   ]
  }
 ],
 "metadata": {
  "kernelspec": {
   "display_name": "Python 3",
   "language": "python",
   "name": "python3"
  },
  "language_info": {
   "codemirror_mode": {
    "name": "ipython",
    "version": 3
   },
   "file_extension": ".py",
   "mimetype": "text/x-python",
   "name": "python",
   "nbconvert_exporter": "python",
   "pygments_lexer": "ipython3",
   "version": "3.6.8"
  }
 },
 "nbformat": 4,
 "nbformat_minor": 2
}
